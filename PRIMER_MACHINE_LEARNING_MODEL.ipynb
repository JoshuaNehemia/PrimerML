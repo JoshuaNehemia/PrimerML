{
  "nbformat": 4,
  "nbformat_minor": 0,
  "metadata": {
    "colab": {
      "provenance": []
    },
    "kernelspec": {
      "name": "python3",
      "display_name": "Python 3"
    },
    "language_info": {
      "name": "python"
    }
  },
  "cells": [
    {
      "cell_type": "markdown",
      "source": [
        "# **PRIMER MACHINE LEARNING MODEL**"
      ],
      "metadata": {
        "id": "gudSL660wQPh"
      }
    },
    {
      "cell_type": "markdown",
      "source": [
        "## **PREPARATION**"
      ],
      "metadata": {
        "id": "TkxC7jWLxS-d"
      }
    },
    {
      "cell_type": "code",
      "execution_count": null,
      "metadata": {
        "id": "pMCB1EizXZbS"
      },
      "outputs": [],
      "source": [
        "# Library\n",
        "import numpy as np"
      ]
    },
    {
      "cell_type": "code",
      "source": [
        "# DEFINING VALUES (for future development)\n",
        "SHORT_LOWER_BOUND = 80\n",
        "SHORT_UPPER_BOUND = 100\n",
        "MEDIUM_LOWER_BOUND = 100\n",
        "MEDIUM_UPPER_BOUND = 150\n",
        "LONG_LOWER_BOUND = 200\n",
        "LONG_UPPER_BOUND = 250\n",
        "PRIMER_LENGTH_LOWER_BOUND = 18\n",
        "PRIMER_LENGTH_UPPER_BOUND = 22\n",
        "OPTIMAL_TM_LOWER_BOUND = 58\n",
        "OPTIMAL_TM_UPPER_BOUND = 60\n",
        "\n",
        "# DEFINING VALUES (for current development)\n",
        "EXACTA_SHORT_LENGTH = 95\n",
        "EXACTA_MEDIUM_LENGTH = 150\n",
        "EXACTA_LONG_LENGTH = 250\n",
        "EXACTA_CPG_SHORT = 5\n",
        "EXACTA_CPG_MEDIUM = 10\n",
        "EXACTA_CPG_LONG = 15\n",
        "EXACTA_PRIMER_LENGTH = 22\n",
        "\n",
        "# DEFINING VALUES (for easier development)\n",
        "DICT_GENOME_KEY = [\"A\",\"C\",\"G\",\"T\"]\n",
        "DICT_GENOME = {\"A\":0,\"C\":0,\"G\":0,\"T\":0}\n",
        "KEY_CPG = \"CG\""
      ],
      "metadata": {
        "id": "ndRO1Eamv3t1"
      },
      "execution_count": null,
      "outputs": []
    },
    {
      "cell_type": "markdown",
      "source": [
        "## **TOOLS**"
      ],
      "metadata": {
        "id": "5mAKuPe0xNk_"
      }
    },
    {
      "cell_type": "markdown",
      "source": [
        "### **TM CALCULATOR**"
      ],
      "metadata": {
        "id": "c49s3sAGzqv5"
      }
    },
    {
      "cell_type": "code",
      "source": [
        "def calculateTM(primer):\n",
        "  counter = DICT_GENOME.copy()\n",
        "  for i in range(len(primer)):\n",
        "    counter[primer[i]]+=1\n",
        "  print(counter)\n",
        "  return ((4*(counter[DICT_GENOME_KEY[2]]+counter[DICT_GENOME_KEY[1]]))+(2*(counter[DICT_GENOME_KEY[0]]+counter[DICT_GENOME_KEY[3]])))"
      ],
      "metadata": {
        "id": "e50ebJB9xNM5"
      },
      "execution_count": null,
      "outputs": []
    },
    {
      "cell_type": "code",
      "source": [
        "# TEST Calculate_Tm\n",
        "def test_calculateTM():\n",
        "  res = calculateTM(\"ACGTACGTACGTACGTAAAACCCGGTT\")\n",
        "  print(res);\n",
        "\n",
        "test_calculateTM()"
      ],
      "metadata": {
        "colab": {
          "base_uri": "https://localhost:8080/"
        },
        "id": "qvX0HXKSzm2T",
        "outputId": "dae7cc83-d4f3-463f-baa4-f583175b8efe"
      },
      "execution_count": null,
      "outputs": [
        {
          "output_type": "stream",
          "name": "stdout",
          "text": [
            "{'A': 8, 'C': 7, 'G': 6, 'T': 6}\n",
            "80\n"
          ]
        }
      ]
    },
    {
      "cell_type": "markdown",
      "source": [
        "## **PRUNING**"
      ],
      "metadata": {
        "id": "81c5cic91Vf-"
      }
    },
    {
      "cell_type": "code",
      "source": [
        "def findCpg(genome):\n",
        "  position = []\n",
        "  for i in range(len(genome)-1):\n",
        "    if((genome[i]+genome[i+1])==KEY_CPG):\n",
        "      position.append(i)\n",
        "  return position"
      ],
      "metadata": {
        "id": "-F-Gvn2B1Xbf"
      },
      "execution_count": null,
      "outputs": []
    }
  ]
}